{
  "nbformat": 4,
  "nbformat_minor": 0,
  "metadata": {
    "colab": {
      "name": "day30-function-transformer.ipynb",
      "provenance": []
    },
    "kernelspec": {
      "name": "python3",
      "display_name": "Python 3"
    },
    "language_info": {
      "name": "python"
    }
  },
  "cells": [
    {
      "cell_type": "markdown",
      "source": [
        "##Mathematical Transformation"
      ],
      "metadata": {
        "id": "KcSDsyROuS0Q"
      }
    },
    {
      "cell_type": "markdown",
      "source": [
        "Some Machine learning algo perform better on normal data i.e Linear,Logistic when we work on this algorithm we try to make data distribution in normal form.\n",
        "\n",
        "\n",
        "For makeing data into a normasl form we manily use:\n",
        "\n",
        "a) Log transformation:- Not use in -Ve value, use in right skeweed data\n",
        "\n",
        "b) Recipocal Transformation(1/X):- All big value convert in small and small value convert in big\n",
        "\n",
        "C) Power(s-Quare or sqrt) (X^2):- used in left skeweed data\n",
        "\n",
        "d) Box- Cox\n"
      ],
      "metadata": {
        "id": "gdUeDJUdth1u"
      }
    },
    {
      "cell_type": "markdown",
      "source": [
        "In sklearn libraries there are three transforamtion\n",
        "\n",
        "Function Trans-> using this we can perform (log,recipol,sq/sqrt,custom)\n",
        "\n",
        "Power Trans-> using this we can perform (box-cox)\n",
        "\n",
        "Quantile trans Not covered"
      ],
      "metadata": {
        "id": "y_Bu5IVIub8M"
      }
    },
    {
      "cell_type": "markdown",
      "source": [
        "How to find if data distribution is Normal or Not?"
      ],
      "metadata": {
        "id": "PBVVVAHNvBEz"
      }
    },
    {
      "cell_type": "code",
      "execution_count": 2,
      "metadata": {
        "id": "SETuSTYWtNJp"
      },
      "outputs": [],
      "source": [
        "import pandas as pd\n",
        "import numpy as np\n",
        "\n",
        "import scipy.stats as stats\n",
        "\n",
        "import matplotlib.pyplot  as plt\n",
        "import seaborn as sns\n",
        "\n",
        "from sklearn.model_selection import train_test_split \n",
        "from sklearn.model_selection import cross_val_score \n",
        "\n",
        "from sklearn.preprocessing import FunctionTransformer\n",
        "from sklearn.metrics import accuracy_score \n",
        "\n",
        "from sklearn.linear_model import LogisticRegression\n",
        "from sklearn.tree import DecisionTreeClassifier \n",
        "\n",
        "from sklearn.compose import ColumnTransformer"
      ]
    },
    {
      "cell_type": "code",
      "source": [
        "df=pd.read_csv('/content/tatinic-train.csv',usecols=['Age','Fare','Survived'])"
      ],
      "metadata": {
        "id": "Iq4MSDJOyC3M"
      },
      "execution_count": 3,
      "outputs": []
    },
    {
      "cell_type": "code",
      "source": [
        "df.head()"
      ],
      "metadata": {
        "colab": {
          "base_uri": "https://localhost:8080/",
          "height": 206
        },
        "id": "i9sILHMJylZz",
        "outputId": "9d039988-5f7f-465d-d138-1aaaa26a6b6f"
      },
      "execution_count": 4,
      "outputs": [
        {
          "output_type": "execute_result",
          "data": {
            "text/plain": [
              "   Survived   Age     Fare\n",
              "0         0  22.0   7.2500\n",
              "1         1  38.0  71.2833\n",
              "2         1  26.0   7.9250\n",
              "3         1  35.0  53.1000\n",
              "4         0  35.0   8.0500"
            ],
            "text/html": [
              "\n",
              "  <div id=\"df-a72be264-93b9-4be3-b865-2b99a22973c1\">\n",
              "    <div class=\"colab-df-container\">\n",
              "      <div>\n",
              "<style scoped>\n",
              "    .dataframe tbody tr th:only-of-type {\n",
              "        vertical-align: middle;\n",
              "    }\n",
              "\n",
              "    .dataframe tbody tr th {\n",
              "        vertical-align: top;\n",
              "    }\n",
              "\n",
              "    .dataframe thead th {\n",
              "        text-align: right;\n",
              "    }\n",
              "</style>\n",
              "<table border=\"1\" class=\"dataframe\">\n",
              "  <thead>\n",
              "    <tr style=\"text-align: right;\">\n",
              "      <th></th>\n",
              "      <th>Survived</th>\n",
              "      <th>Age</th>\n",
              "      <th>Fare</th>\n",
              "    </tr>\n",
              "  </thead>\n",
              "  <tbody>\n",
              "    <tr>\n",
              "      <th>0</th>\n",
              "      <td>0</td>\n",
              "      <td>22.0</td>\n",
              "      <td>7.2500</td>\n",
              "    </tr>\n",
              "    <tr>\n",
              "      <th>1</th>\n",
              "      <td>1</td>\n",
              "      <td>38.0</td>\n",
              "      <td>71.2833</td>\n",
              "    </tr>\n",
              "    <tr>\n",
              "      <th>2</th>\n",
              "      <td>1</td>\n",
              "      <td>26.0</td>\n",
              "      <td>7.9250</td>\n",
              "    </tr>\n",
              "    <tr>\n",
              "      <th>3</th>\n",
              "      <td>1</td>\n",
              "      <td>35.0</td>\n",
              "      <td>53.1000</td>\n",
              "    </tr>\n",
              "    <tr>\n",
              "      <th>4</th>\n",
              "      <td>0</td>\n",
              "      <td>35.0</td>\n",
              "      <td>8.0500</td>\n",
              "    </tr>\n",
              "  </tbody>\n",
              "</table>\n",
              "</div>\n",
              "      <button class=\"colab-df-convert\" onclick=\"convertToInteractive('df-a72be264-93b9-4be3-b865-2b99a22973c1')\"\n",
              "              title=\"Convert this dataframe to an interactive table.\"\n",
              "              style=\"display:none;\">\n",
              "        \n",
              "  <svg xmlns=\"http://www.w3.org/2000/svg\" height=\"24px\"viewBox=\"0 0 24 24\"\n",
              "       width=\"24px\">\n",
              "    <path d=\"M0 0h24v24H0V0z\" fill=\"none\"/>\n",
              "    <path d=\"M18.56 5.44l.94 2.06.94-2.06 2.06-.94-2.06-.94-.94-2.06-.94 2.06-2.06.94zm-11 1L8.5 8.5l.94-2.06 2.06-.94-2.06-.94L8.5 2.5l-.94 2.06-2.06.94zm10 10l.94 2.06.94-2.06 2.06-.94-2.06-.94-.94-2.06-.94 2.06-2.06.94z\"/><path d=\"M17.41 7.96l-1.37-1.37c-.4-.4-.92-.59-1.43-.59-.52 0-1.04.2-1.43.59L10.3 9.45l-7.72 7.72c-.78.78-.78 2.05 0 2.83L4 21.41c.39.39.9.59 1.41.59.51 0 1.02-.2 1.41-.59l7.78-7.78 2.81-2.81c.8-.78.8-2.07 0-2.86zM5.41 20L4 18.59l7.72-7.72 1.47 1.35L5.41 20z\"/>\n",
              "  </svg>\n",
              "      </button>\n",
              "      \n",
              "  <style>\n",
              "    .colab-df-container {\n",
              "      display:flex;\n",
              "      flex-wrap:wrap;\n",
              "      gap: 12px;\n",
              "    }\n",
              "\n",
              "    .colab-df-convert {\n",
              "      background-color: #E8F0FE;\n",
              "      border: none;\n",
              "      border-radius: 50%;\n",
              "      cursor: pointer;\n",
              "      display: none;\n",
              "      fill: #1967D2;\n",
              "      height: 32px;\n",
              "      padding: 0 0 0 0;\n",
              "      width: 32px;\n",
              "    }\n",
              "\n",
              "    .colab-df-convert:hover {\n",
              "      background-color: #E2EBFA;\n",
              "      box-shadow: 0px 1px 2px rgba(60, 64, 67, 0.3), 0px 1px 3px 1px rgba(60, 64, 67, 0.15);\n",
              "      fill: #174EA6;\n",
              "    }\n",
              "\n",
              "    [theme=dark] .colab-df-convert {\n",
              "      background-color: #3B4455;\n",
              "      fill: #D2E3FC;\n",
              "    }\n",
              "\n",
              "    [theme=dark] .colab-df-convert:hover {\n",
              "      background-color: #434B5C;\n",
              "      box-shadow: 0px 1px 3px 1px rgba(0, 0, 0, 0.15);\n",
              "      filter: drop-shadow(0px 1px 2px rgba(0, 0, 0, 0.3));\n",
              "      fill: #FFFFFF;\n",
              "    }\n",
              "  </style>\n",
              "\n",
              "      <script>\n",
              "        const buttonEl =\n",
              "          document.querySelector('#df-a72be264-93b9-4be3-b865-2b99a22973c1 button.colab-df-convert');\n",
              "        buttonEl.style.display =\n",
              "          google.colab.kernel.accessAllowed ? 'block' : 'none';\n",
              "\n",
              "        async function convertToInteractive(key) {\n",
              "          const element = document.querySelector('#df-a72be264-93b9-4be3-b865-2b99a22973c1');\n",
              "          const dataTable =\n",
              "            await google.colab.kernel.invokeFunction('convertToInteractive',\n",
              "                                                     [key], {});\n",
              "          if (!dataTable) return;\n",
              "\n",
              "          const docLinkHtml = 'Like what you see? Visit the ' +\n",
              "            '<a target=\"_blank\" href=https://colab.research.google.com/notebooks/data_table.ipynb>data table notebook</a>'\n",
              "            + ' to learn more about interactive tables.';\n",
              "          element.innerHTML = '';\n",
              "          dataTable['output_type'] = 'display_data';\n",
              "          await google.colab.output.renderOutput(dataTable, element);\n",
              "          const docLink = document.createElement('div');\n",
              "          docLink.innerHTML = docLinkHtml;\n",
              "          element.appendChild(docLink);\n",
              "        }\n",
              "      </script>\n",
              "    </div>\n",
              "  </div>\n",
              "  "
            ]
          },
          "metadata": {},
          "execution_count": 4
        }
      ]
    },
    {
      "cell_type": "code",
      "source": [
        "df.isnull().sum()"
      ],
      "metadata": {
        "colab": {
          "base_uri": "https://localhost:8080/"
        },
        "id": "nSQcPoIMyuTr",
        "outputId": "01ce3493-290c-4164-dd7c-47aecae3b941"
      },
      "execution_count": 5,
      "outputs": [
        {
          "output_type": "execute_result",
          "data": {
            "text/plain": [
              "Survived      0\n",
              "Age         177\n",
              "Fare          0\n",
              "dtype: int64"
            ]
          },
          "metadata": {},
          "execution_count": 5
        }
      ]
    },
    {
      "cell_type": "code",
      "source": [
        "df['Age'].fillna(df['Age'].mean(),inplace=True)"
      ],
      "metadata": {
        "id": "9VbTsbf1yy61"
      },
      "execution_count": 6,
      "outputs": []
    },
    {
      "cell_type": "code",
      "source": [
        "df.isnull().sum()"
      ],
      "metadata": {
        "colab": {
          "base_uri": "https://localhost:8080/"
        },
        "id": "LB_ZJH1qy-Cu",
        "outputId": "6f0f72cb-3020-4363-b764-4d62f91cca12"
      },
      "execution_count": 7,
      "outputs": [
        {
          "output_type": "execute_result",
          "data": {
            "text/plain": [
              "Survived    0\n",
              "Age         0\n",
              "Fare        0\n",
              "dtype: int64"
            ]
          },
          "metadata": {},
          "execution_count": 7
        }
      ]
    },
    {
      "cell_type": "code",
      "source": [
        "X=df.iloc[:,1:3]\n",
        "y=df.iloc[:,0]"
      ],
      "metadata": {
        "id": "Ld6oCfn43Ml-"
      },
      "execution_count": 8,
      "outputs": []
    },
    {
      "cell_type": "code",
      "source": [
        "X_train,X_test,y_train,y_test=train_test_split (X,y,test_size=0.2,random_state=35)"
      ],
      "metadata": {
        "id": "LwgKDq_8zCJV"
      },
      "execution_count": 9,
      "outputs": []
    },
    {
      "cell_type": "code",
      "source": [
        "plt.figure(figsize=(14,4))\n",
        "plt.subplot(121)\n",
        "sns.distplot(X_train['Age'])\n",
        "plt.title('Age PDF')\n",
        "\n",
        "plt.subplot(122)\n",
        "stats.probplot(X_train['Age'], dist=\"norm\", plot=plt)\n",
        "plt.title('Age QQ Plot')\n",
        "\n",
        "plt.show()"
      ],
      "metadata": {
        "colab": {
          "base_uri": "https://localhost:8080/",
          "height": 350
        },
        "id": "kyXxwYvGzZCY",
        "outputId": "a97218fb-8615-4d9d-851b-318524efb67d"
      },
      "execution_count": 10,
      "outputs": [
        {
          "output_type": "stream",
          "name": "stderr",
          "text": [
            "/usr/local/lib/python3.7/dist-packages/seaborn/distributions.py:2619: FutureWarning: `distplot` is a deprecated function and will be removed in a future version. Please adapt your code to use either `displot` (a figure-level function with similar flexibility) or `histplot` (an axes-level function for histograms).\n",
            "  warnings.warn(msg, FutureWarning)\n"
          ]
        },
        {
          "output_type": "display_data",
          "data": {
            "text/plain": [
              "<Figure size 1008x288 with 2 Axes>"
            ],
            "image/png": "[encoded data removed]"
          },
          "metadata": {
            "needs_background": "light"
          }
        }
      ]
    },
    {
      "cell_type": "code",
      "source": [
        "plt.figure(figsize=(14,4))\n",
        "plt.subplot(121)\n",
        "sns.distplot(X_train['Fare'])\n",
        "plt.title('Fare PDF')\n",
        "\n",
        "plt.subplot(122)\n",
        "stats.probplot(X_train['Fare'], dist=\"norm\", plot=plt)\n",
        "plt.title('Fare QQ Plot')\n",
        "\n",
        "plt.show()"
      ],
      "metadata": {
        "colab": {
          "base_uri": "https://localhost:8080/",
          "height": 350
        },
        "id": "a00a98Owz_9p",
        "outputId": "d9a189b2-0031-4ec6-9f0b-40f538054e9f"
      },
      "execution_count": 11,
      "outputs": [
        {
          "output_type": "stream",
          "name": "stderr",
          "text": [
            "/usr/local/lib/python3.7/dist-packages/seaborn/distributions.py:2619: FutureWarning: `distplot` is a deprecated function and will be removed in a future version. Please adapt your code to use either `displot` (a figure-level function with similar flexibility) or `histplot` (an axes-level function for histograms).\n",
            "  warnings.warn(msg, FutureWarning)\n"
          ]
        },
        {
          "output_type": "display_data",
          "data": {
            "text/plain": [
              "<Figure size 1008x288 with 2 Axes>"
            ],
            "image/png": "[encoded data removed]"
          },
          "metadata": {
            "needs_background": "light"
          }
        }
      ]
    },
    {
      "cell_type": "code",
      "source": [
        "lr = LogisticRegression()\n",
        "clf = DecisionTreeClassifier()"
      ],
      "metadata": {
        "id": "FP0q4ngV0MpR"
      },
      "execution_count": 12,
      "outputs": []
    },
    {
      "cell_type": "code",
      "source": [
        "lr.fit(X_train,y_train)\n",
        "clf.fit(X_train,y_train)\n",
        "\n",
        "lr_pred=lr.predict(X_test)\n",
        "clf_pred=clf.predict(X_test)"
      ],
      "metadata": {
        "id": "ApnViDP10Yoi"
      },
      "execution_count": 13,
      "outputs": []
    },
    {
      "cell_type": "code",
      "source": [
        "print(\"Accuracy Score for Logistic Regression: \",accuracy_score(y_test,lr_pred))\n",
        "print(\"Accuracy Score for Decision Tree Classifier: \",accuracy_score(y_test,clf_pred))"
      ],
      "metadata": {
        "colab": {
          "base_uri": "https://localhost:8080/"
        },
        "id": "L4aJq-r50w73",
        "outputId": "9eb2661d-b3aa-458e-8bc2-d4db641f83f1"
      },
      "execution_count": 14,
      "outputs": [
        {
          "output_type": "stream",
          "name": "stdout",
          "text": [
            "Accuracy Score for Logistic Regression:  0.664804469273743\n",
            "Accuracy Score for Decision Tree Classifier:  0.5754189944134078\n"
          ]
        }
      ]
    },
    {
      "cell_type": "code",
      "source": [
        "trf = FunctionTransformer(func=np.log1p) # mostly np.log1p is used its add(n+1) in column and apply this but np.logp don't do that"
      ],
      "metadata": {
        "id": "U9vOm3jH1DOG"
      },
      "execution_count": 15,
      "outputs": []
    },
    {
      "cell_type": "code",
      "source": [
        "X_train_transformed = trf.fit_transform(X_train)\n",
        "X_test_transformed= trf.transform(X_test)"
      ],
      "metadata": {
        "id": "4FU6ov3b1hNA"
      },
      "execution_count": 16,
      "outputs": []
    },
    {
      "cell_type": "code",
      "source": [
        "lr.fit(X_train_transformed,y_train)\n",
        "clf.fit(X_train_transformed,y_train)\n",
        "\n",
        "lr_pred=lr.predict(X_test_transformed)\n",
        "clf_pred=clf.predict(X_test_transformed)\n",
        "\n",
        "print(\"Accuracy Score after funs trans Logistic Regression: \",accuracy_score(y_test,lr_pred))\n",
        "print(\"Accuracy Score after funs trans Decision Tree Classifier: \",accuracy_score(y_test,clf_pred))"
      ],
      "metadata": {
        "colab": {
          "base_uri": "https://localhost:8080/"
        },
        "id": "f9prjT_c2B0q",
        "outputId": "289ae21c-81a4-4696-d927-f33322e4c67b"
      },
      "execution_count": 17,
      "outputs": [
        {
          "output_type": "stream",
          "name": "stdout",
          "text": [
            "Accuracy Score after funs trans Logistic Regression:  0.6703910614525139\n",
            "Accuracy Score after funs trans Decision Tree Classifier:  0.6089385474860335\n"
          ]
        }
      ]
    },
    {
      "cell_type": "markdown",
      "source": [
        "Doing the cross validation to check after transformation result is right or not?"
      ],
      "metadata": {
        "id": "iuMdsmD72-Q-"
      }
    },
    {
      "cell_type": "code",
      "source": [
        "X_transformed = trf.fit_transform(X)\n",
        "\n",
        "\n",
        "print(\"Accuracy Score after cross Validation Logistic Regression: \",np.mean(cross_val_score(lr,X_transformed,y,scoring='accuracy',cv=10)))\n",
        "print(\"Accuracy Score after cross Validation Decision Tree Classifier: \",np.mean(cross_val_score(clf,X_transformed,y,scoring='accuracy',cv=10)))"
      ],
      "metadata": {
        "colab": {
          "base_uri": "https://localhost:8080/"
        },
        "id": "vmokbMvp2W_6",
        "outputId": "b856200c-ac87-4a11-913c-72275be0f07d"
      },
      "execution_count": 18,
      "outputs": [
        {
          "output_type": "stream",
          "name": "stdout",
          "text": [
            "Accuracy Score after cross Validation Logistic Regression:  0.678027465667915\n",
            "Accuracy Score after cross Validation Decision Tree Classifier:  0.6610986267166042\n"
          ]
        }
      ]
    },
    {
      "cell_type": "code",
      "source": [
        "plt.figure(figsize=(14,4))\n",
        "plt.subplot(121)\n",
        "stats.probplot(X_train['Fare'], dist=\"norm\", plot=plt)\n",
        "plt.title('Fare QQ Plot')\n",
        "\n",
        "plt.subplot(122)\n",
        "stats.probplot(X_train_transformed['Fare'], dist=\"norm\", plot=plt)\n",
        "plt.title('Fare QQ Plot')\n",
        "\n",
        "plt.show()"
      ],
      "metadata": {
        "colab": {
          "base_uri": "https://localhost:8080/",
          "height": 295
        },
        "id": "lK104YV43IR9",
        "outputId": "37a72fbd-29dc-4cc5-e110-35a1fae447ee"
      },
      "execution_count": 20,
      "outputs": [
        {
          "output_type": "display_data",
          "data": {
            "text/plain": [
              "<Figure size 1008x288 with 2 Axes>"
            ],
            "image/png": "[encoded data removed]"
          },
          "metadata": {
            "needs_background": "light"
          }
        }
      ]
    },
    {
      "cell_type": "code",
      "source": [
        "plt.figure(figsize=(14,4))\n",
        "plt.subplot(121)\n",
        "stats.probplot(X_train['Age'], dist=\"norm\", plot=plt)\n",
        "plt.title('Age QQ Plot')\n",
        "\n",
        "plt.subplot(122)\n",
        "stats.probplot(X_train_transformed['Age'], dist=\"norm\", plot=plt)\n",
        "plt.title('Age QQ Plot')\n",
        "\n",
        "plt.show()"
      ],
      "metadata": {
        "colab": {
          "base_uri": "https://localhost:8080/",
          "height": 295
        },
        "id": "yYMukc6P39iq",
        "outputId": "910ea8c6-5f2a-49aa-9198-5f49b762b09f"
      },
      "execution_count": 21,
      "outputs": [
        {
          "output_type": "display_data",
          "data": {
            "text/plain": [
              "<Figure size 1008x288 with 2 Axes>"
            ],
            "image/png": "[encoded data removed]"
          },
          "metadata": {
            "needs_background": "light"
          }
        }
      ]
    },
    {
      "cell_type": "code",
      "source": [
        "trf2 = ColumnTransformer (transformers=[\n",
        "        ('log',FunctionTransformer(np.log1p),['Fare'])\n",
        "],remainder='passthrough')"
      ],
      "metadata": {
        "id": "Iaj4_n4Z4LKn"
      },
      "execution_count": 23,
      "outputs": []
    },
    {
      "cell_type": "code",
      "source": [
        "X_train_transformed2=trf2.fit_transform(X_train)\n",
        "X_test_transformed2= trf2.transform(X_test)"
      ],
      "metadata": {
        "id": "BKFCoLbh4lka"
      },
      "execution_count": 24,
      "outputs": []
    },
    {
      "cell_type": "code",
      "source": [
        "lr.fit(X_train_transformed2,y_train)\n",
        "clf.fit(X_train_transformed2,y_train)\n",
        "\n",
        "lr_pred2=lr.predict(X_test_transformed2)\n",
        "clf_pred2=clf.predict(X_test_transformed2)\n",
        "\n",
        "print(\"Accuracy Score after funs trans Logistic Regression: \",accuracy_score(y_test,lr_pred2))\n",
        "print(\"Accuracy Score after funs trans Decision Tree Classifier: \",accuracy_score(y_test,clf_pred2))"
      ],
      "metadata": {
        "colab": {
          "base_uri": "https://localhost:8080/"
        },
        "id": "t1Kze7N149WB",
        "outputId": "67f19e3a-b757-4b85-b75d-3d55ddd10bc2"
      },
      "execution_count": 28,
      "outputs": [
        {
          "output_type": "stream",
          "name": "stdout",
          "text": [
            "Accuracy Score after funs trans Logistic Regression:  0.664804469273743\n",
            "Accuracy Score after funs trans Decision Tree Classifier:  0.5810055865921788\n"
          ]
        }
      ]
    },
    {
      "cell_type": "code",
      "source": [
        "X_transformed2 = trf2.fit_transform(X)\n",
        "\n",
        "\n",
        "print(\"LR\",np.mean(cross_val_score(lr,X_transformed2,y,scoring='accuracy',cv=10)))\n",
        "print(\"DT\",np.mean(cross_val_score(clf,X_transformed2,y,scoring='accuracy',cv=10)))"
      ],
      "metadata": {
        "colab": {
          "base_uri": "https://localhost:8080/"
        },
        "id": "7ZfqMj025ZTT",
        "outputId": "3bba5899-0749-4add-eb97-e28a7d0b399e"
      },
      "execution_count": 29,
      "outputs": [
        {
          "output_type": "stream",
          "name": "stdout",
          "text": [
            "LR 0.6712609238451936\n",
            "DT 0.6655930087390761\n"
          ]
        }
      ]
    },
    {
      "cell_type": "code",
      "source": [
        "def apply_transform(transform):\n",
        "    X = df.iloc[:,1:3]\n",
        "    y = df.iloc[:,0]\n",
        "    \n",
        "    trf = ColumnTransformer([('log',FunctionTransformer(transform),['Fare'])],remainder='passthrough')\n",
        "    \n",
        "    X_trans = trf.fit_transform(X)\n",
        "    \n",
        "    clf = LogisticRegression()\n",
        "    \n",
        "    print(\"Accuracy\",np.mean(cross_val_score(clf,X_trans,y,scoring='accuracy',cv=10)))\n",
        "    \n",
        "    plt.figure(figsize=(14,4))\n",
        "\n",
        "    plt.subplot(121)\n",
        "    stats.probplot(X['Fare'], dist=\"norm\", plot=plt)\n",
        "    plt.title('Fare Before Transform')\n",
        "\n",
        "    plt.subplot(122)\n",
        "    stats.probplot(X_trans[:,0], dist=\"norm\", plot=plt)\n",
        "    plt.title('Fare After Transform')\n",
        "\n",
        "    plt.show()"
      ],
      "metadata": {
        "id": "OQDsLP-a6CpP"
      },
      "execution_count": 30,
      "outputs": []
    },
    {
      "cell_type": "code",
      "source": [
        "Sqrt = lambda X:X**1/2\n",
        "square = lambda X:X**2\n",
        "normal = lambda X:X\n",
        "log1= np.log1p\n",
        "\n",
        "\n",
        "apply_transform(log1)"
      ],
      "metadata": {
        "colab": {
          "base_uri": "https://localhost:8080/",
          "height": 312
        },
        "id": "Kbz2UlmX6S9f",
        "outputId": "9a247ae9-6b56-447b-8147-bfbce5a6c922"
      },
      "execution_count": 38,
      "outputs": [
        {
          "output_type": "stream",
          "name": "stdout",
          "text": [
            "Accuracy 0.6712609238451936\n"
          ]
        },
        {
          "output_type": "display_data",
          "data": {
            "text/plain": [
              "<Figure size 1008x288 with 2 Axes>"
            ],
            "image/png": "[encoded data removed]"
          },
          "metadata": {
            "needs_background": "light"
          }
        }
      ]
    },
    {
      "cell_type": "code",
      "source": [
        ""
      ],
      "metadata": {
        "id": "HzrZwMmL6dFR"
      },
      "execution_count": null,
      "outputs": []
    }
  ]
}