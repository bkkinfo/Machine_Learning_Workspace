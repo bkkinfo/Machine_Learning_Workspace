{
  "nbformat": 4,
  "nbformat_minor": 0,
  "metadata": {
    "colab": {
      "name": "gradient-descent-animation(both-m-and-b).ipynb",
      "provenance": []
    },
    "kernelspec": {
      "name": "python3",
      "display_name": "Python 3"
    },
    "language_info": {
      "name": "python"
    }
  },
  "cells": [
    {
      "cell_type": "code",
      "execution_count": 1,
      "metadata": {
        "id": "OhF48U-RFJ8v"
      },
      "outputs": [],
      "source": [
        "from sklearn.datasets import make_regression\n",
        "\n",
        "import numpy as np\n",
        "import matplotlib.pyplot as plt\n",
        "%matplotlib notebook\n",
        "from matplotlib.animation import FuncAnimation\n",
        "import matplotlib.animation as animation"
      ]
    },
    {
      "cell_type": "code",
      "source": [
        "X,y = make_regression(n_samples=100, n_features=1, n_informative=1, n_targets=1,noise=20,random_state=13)\n",
        "plt.scatter(X,y)"
      ],
      "metadata": {
        "colab": {
          "base_uri": "https://localhost:8080/",
          "height": 282
        },
        "id": "RqnDQEZbFMGV",
        "outputId": "247ab29d-fe94-40e0-8bd2-4902526af81e"
      },
      "execution_count": 2,
      "outputs": [
        {
          "output_type": "execute_result",
          "data": {
            "text/plain": [
              "<matplotlib.collections.PathCollection at 0x7fd65328d410>"
            ]
          },
          "metadata": {},
          "execution_count": 2
        },
        {
          "output_type": "display_data",
          "data": {
            "text/plain": [
              "<Figure size 432x288 with 1 Axes>"
            ],
            "image/png": "[encoded data removed]"
          },
          "metadata": {
            "needs_background": "light"
          }
        }
      ]
    },
    {
      "cell_type": "code",
      "source": [
        "b = -520\n",
        "m = 600\n",
        "lr = 0.001\n",
        "all_b = []\n",
        "all_m = []\n",
        "all_cost = []\n",
        "\n",
        "epochs = 30\n",
        "\n",
        "for i in range(epochs):\n",
        "    slope_b = 0\n",
        "    slope_m = 0\n",
        "    cost = 0\n",
        "    for j in range(X.shape[0]):\n",
        "        slope_b = slope_b - 2*(y[j] - (m * X[j]) -  b)\n",
        "        slope_m = slope_m - 2*(y[j] - (m * X[j]) -  b)*X[j]\n",
        "        cost = cost + (y[j] - m * X[j] -b) ** 2\n",
        "\n",
        "    b = b - (lr * slope_b)\n",
        "    m = m - (lr * slope_m)\n",
        "    all_b.append(b)\n",
        "    all_m.append(m)\n",
        "    all_cost.append(cost)"
      ],
      "metadata": {
        "id": "S2l6oeWoFMs8"
      },
      "execution_count": 3,
      "outputs": []
    },
    {
      "cell_type": "code",
      "source": [
        "# Cost function\n",
        "# creating a blank window \n",
        "# for the animation \n",
        "num_epochs = list(range(0,30))\n",
        "fig = plt.figure(figsize=(9,5)) \n",
        "axis = plt.axes(xlim =(0, 31), ylim =(0, 4500000)) \n",
        "  \n",
        "line, = axis.plot([], [], lw = 2) \n",
        "  \n",
        "xdata, ydata = [], [] \n",
        "  \n",
        "# animation function \n",
        "def animate(i): \n",
        "    label = 'epoch {0}'.format(i + 1)\n",
        "    xdata.append(num_epochs[i]) \n",
        "    ydata.append(all_cost[i]) \n",
        "    line.set_data(xdata, ydata) \n",
        "    axis.set_xlabel(label)\n",
        "      \n",
        "    return line, \n",
        "  \n",
        "# calling the animation function     \n",
        "anim = animation.FuncAnimation(fig, animate, frames = 30,repeat=False, interval = 500)\n",
        "\n",
        "f = r\"animation5.gif\" \n",
        "writergif = animation.PillowWriter(fps=2) \n",
        "anim.save(f, writer=writergif)"
      ],
      "metadata": {
        "colab": {
          "base_uri": "https://localhost:8080/",
          "height": 345
        },
        "id": "aYUwrKD7FRXj",
        "outputId": "b3802dd5-842f-42fd-c942-806b9aa24068"
      },
      "execution_count": 4,
      "outputs": [
        {
          "output_type": "display_data",
          "data": {
            "text/plain": [
              "<Figure size 648x360 with 1 Axes>"
            ],
            "image/png": "[encoded data removed]"
          },
          "metadata": {
            "needs_background": "light"
          }
        }
      ]
    },
    {
      "cell_type": "code",
      "source": [
        "# intercept graph\n",
        "num_epochs = list(range(0,30))\n",
        "fig = plt.figure(figsize=(9,5)) \n",
        "axis = plt.axes(xlim =(0, 31), ylim =(-10, 160)) \n",
        "  \n",
        "line, = axis.plot([], [], lw = 2) \n",
        "  \n",
        "xdata, ydata = [], [] \n",
        "  \n",
        "# animation function \n",
        "def animate(i): \n",
        "    label = 'epoch {0}'.format(i + 1)\n",
        "    xdata.append(num_epochs[i]) \n",
        "    ydata.append(all_b[i]) \n",
        "    line.set_data(xdata, ydata) \n",
        "    axis.set_xlabel(label)\n",
        "      \n",
        "    return line, \n",
        "  \n",
        "# calling the animation function     \n",
        "anim = animation.FuncAnimation(fig, animate, frames = 30,repeat=False, interval = 500)\n",
        "\n",
        "f = r\"animation6.gif\" \n",
        "writergif = animation.PillowWriter(fps=2) \n",
        "anim.save(f, writer=writergif)"
      ],
      "metadata": {
        "colab": {
          "base_uri": "https://localhost:8080/",
          "height": 338
        },
        "id": "7uDM8DqHFR9E",
        "outputId": "a2ff0668-7911-46da-e3b7-9984995b462c"
      },
      "execution_count": 5,
      "outputs": [
        {
          "output_type": "display_data",
          "data": {
            "text/plain": [
              "<Figure size 648x360 with 1 Axes>"
            ],
            "image/png": "[encoded data removed]"
          },
          "metadata": {
            "needs_background": "light"
          }
        }
      ]
    },
    {
      "cell_type": "code",
      "source": [
        "# intercept graph\n",
        "num_epochs = list(range(0,30))\n",
        "fig = plt.figure(figsize=(9,5)) \n",
        "axis = plt.axes(xlim =(0, 31), ylim =(-150, 50)) \n",
        "  \n",
        "line, = axis.plot([], [], lw = 2) \n",
        "  \n",
        "xdata, ydata = [], [] \n",
        "  \n",
        "# animation function \n",
        "def animate(i): \n",
        "    label = 'epoch {0}'.format(i + 1)\n",
        "    xdata.append(num_epochs[i]) \n",
        "    ydata.append(all_m[i]) \n",
        "    line.set_data(xdata, ydata) \n",
        "    axis.set_xlabel(label)\n",
        "      \n",
        "    return line, \n",
        "  \n",
        "# calling the animation function     \n",
        "anim = animation.FuncAnimation(fig, animate, frames = 30,repeat=False, interval = 500)\n",
        "\n",
        "f = r\"animation7.gif\" \n",
        "writergif = animation.PillowWriter(fps=2) \n",
        "anim.save(f, writer=writergif)"
      ],
      "metadata": {
        "colab": {
          "base_uri": "https://localhost:8080/",
          "height": 338
        },
        "id": "5YNisdxUFWsU",
        "outputId": "173a4c8b-280f-42b9-8818-72b71e04a29d"
      },
      "execution_count": 7,
      "outputs": [
        {
          "output_type": "display_data",
          "data": {
            "text/plain": [
              "<Figure size 648x360 with 1 Axes>"
            ],
            "image/png": "[encoded data removed]"
          },
          "metadata": {
            "needs_background": "light"
          }
        }
      ]
    },
    {
      "cell_type": "code",
      "source": [
        ""
      ],
      "metadata": {
        "id": "eALJ20BSFZlU"
      },
      "execution_count": null,
      "outputs": []
    }
  ]
}