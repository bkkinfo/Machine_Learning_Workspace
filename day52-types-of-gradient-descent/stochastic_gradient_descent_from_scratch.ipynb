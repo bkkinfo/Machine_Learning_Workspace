{
  "nbformat": 4,
  "nbformat_minor": 0,
  "metadata": {
    "colab": {
      "name": "stochastic-gradient-descent-from-scratch.ipynb",
      "provenance": []
    },
    "kernelspec": {
      "name": "python3",
      "display_name": "Python 3"
    },
    "language_info": {
      "name": "python"
    }
  },
  "cells": [
    {
      "cell_type": "code",
      "execution_count": null,
      "metadata": {
        "id": "yesMbHCJ5k_B"
      },
      "outputs": [],
      "source": [
        "from sklearn.datasets import load_diabetes\n",
        "\n",
        "import numpy as np\n",
        "from sklearn.linear_model import LinearRegression\n",
        "from sklearn.metrics import r2_score\n",
        "from sklearn.model_selection import train_test_split\n",
        "import time "
      ]
    },
    {
      "cell_type": "code",
      "source": [
        "X,y = load_diabetes(return_X_y=True)"
      ],
      "metadata": {
        "id": "pWSP_9T356xw"
      },
      "execution_count": null,
      "outputs": []
    },
    {
      "cell_type": "code",
      "source": [
        "print(X.shape)\n",
        "print(y.shape)"
      ],
      "metadata": {
        "colab": {
          "base_uri": "https://localhost:8080/"
        },
        "id": "0NoEuBBD58Xl",
        "outputId": "13e776ef-b16c-4137-a522-574853e42354"
      },
      "execution_count": null,
      "outputs": [
        {
          "output_type": "stream",
          "name": "stdout",
          "text": [
            "(442, 10)\n",
            "(442,)\n"
          ]
        }
      ]
    },
    {
      "cell_type": "code",
      "source": [
        "X_train,X_test,y_train,y_test = train_test_split(X,y,test_size=0.2,random_state=2)"
      ],
      "metadata": {
        "id": "qkk73kIO595d"
      },
      "execution_count": null,
      "outputs": []
    },
    {
      "cell_type": "markdown",
      "source": [
        "# Just see the accuracy in below we do this same with SGD Regressor"
      ],
      "metadata": {
        "id": "kZCTFQO06Ujp"
      }
    },
    {
      "cell_type": "code",
      "source": [
        "reg = LinearRegression()\n",
        "reg.fit(X_train,y_train)"
      ],
      "metadata": {
        "colab": {
          "base_uri": "https://localhost:8080/"
        },
        "id": "qv0BaAc46Bnt",
        "outputId": "5f52512b-a981-422e-dd51-e8ebca04161b"
      },
      "execution_count": null,
      "outputs": [
        {
          "output_type": "execute_result",
          "data": {
            "text/plain": [
              "LinearRegression()"
            ]
          },
          "metadata": {},
          "execution_count": 5
        }
      ]
    },
    {
      "cell_type": "code",
      "source": [
        "print(reg.coef_)\n",
        "print(reg.intercept_)"
      ],
      "metadata": {
        "colab": {
          "base_uri": "https://localhost:8080/"
        },
        "id": "j2oQg6nT6EJc",
        "outputId": "b8328d7d-7f9c-4427-f873-af81a6ac4132"
      },
      "execution_count": null,
      "outputs": [
        {
          "output_type": "stream",
          "name": "stdout",
          "text": [
            "[  -9.16088483 -205.46225988  516.68462383  340.62734108 -895.54360867\n",
            "  561.21453306  153.88478595  126.73431596  861.12139955   52.41982836]\n",
            "151.88334520854633\n"
          ]
        }
      ]
    },
    {
      "cell_type": "code",
      "source": [
        "y_pred = reg.predict(X_test)\n",
        "r2_score(y_test,y_pred)"
      ],
      "metadata": {
        "colab": {
          "base_uri": "https://localhost:8080/"
        },
        "id": "_aW8RrCM6EkU",
        "outputId": "045158cf-29d7-4b11-c95a-4c5c85d682e9"
      },
      "execution_count": null,
      "outputs": [
        {
          "output_type": "execute_result",
          "data": {
            "text/plain": [
              "0.4399387660024645"
            ]
          },
          "metadata": {},
          "execution_count": 7
        }
      ]
    },
    {
      "cell_type": "markdown",
      "source": [
        "#SGD Regressor "
      ],
      "metadata": {
        "id": "BTQKOUtf6iL3"
      }
    },
    {
      "cell_type": "code",
      "source": [
        "class SGDRegressor:\n",
        "    \n",
        "    def __init__(self,learning_rate=0.01,epochs=100):\n",
        "        \n",
        "        self.coef_ = None\n",
        "        self.intercept_ = None\n",
        "        self.lr = learning_rate\n",
        "        self.epochs = epochs\n",
        "        \n",
        "    def fit(self,X_train,y_train):\n",
        "        # init your coefs\n",
        "        self.intercept_ = 0\n",
        "        self.coef_ = np.ones(X_train.shape[1])\n",
        "        \n",
        "        for i in range(self.epochs):\n",
        "            for j in range(X_train.shape[0]):\n",
        "                idx = np.random.randint(0,X_train.shape[0])\n",
        "                \n",
        "                y_hat = np.dot(X_train[idx],self.coef_) + self.intercept_\n",
        "                \n",
        "                intercept_der = -2 * (y_train[idx] - y_hat)\n",
        "                self.intercept_ = self.intercept_ - (self.lr * intercept_der)\n",
        "                \n",
        "                coef_der = -2 * np.dot((y_train[idx] - y_hat),X_train[idx])\n",
        "                self.coef_ = self.coef_ - (self.lr * coef_der)\n",
        "        \n",
        "        print(self.intercept_,self.coef_)\n",
        "    \n",
        "    def predict(self,X_test):\n",
        "        return np.dot(X_test,self.coef_) + self.intercept_"
      ],
      "metadata": {
        "id": "p6wFCQ_y6G52"
      },
      "execution_count": null,
      "outputs": []
    },
    {
      "cell_type": "code",
      "source": [
        "sgd = SGDRegressor(learning_rate=0.01,epochs=50)"
      ],
      "metadata": {
        "id": "hVIK6GcY6qKG"
      },
      "execution_count": null,
      "outputs": []
    },
    {
      "cell_type": "code",
      "source": [
        "start=time.time()\n",
        "sgd.fit(X_train,y_train)\n",
        "\n",
        "print(\"Time taken is : \",time.time()-start)"
      ],
      "metadata": {
        "colab": {
          "base_uri": "https://localhost:8080/"
        },
        "id": "UsWISitc6zQf",
        "outputId": "e417f833-037b-4918-be2a-bd6a6d3f2342"
      },
      "execution_count": null,
      "outputs": [
        {
          "output_type": "stream",
          "name": "stdout",
          "text": [
            "141.2180666215422 [  61.77166529  -68.78851284  345.11353454  245.97593101   12.60047795\n",
            "  -30.58574155 -178.08288497  126.90407509  317.79364895  129.70164157]\n",
            "Time taken is :  0.49413132667541504\n"
          ]
        }
      ]
    },
    {
      "cell_type": "code",
      "source": [
        "y_pred=sgd.predict(X_test)"
      ],
      "metadata": {
        "id": "9KrR92WU624Q"
      },
      "execution_count": null,
      "outputs": []
    },
    {
      "cell_type": "code",
      "source": [
        "r2_score(y_test,y_pred)"
      ],
      "metadata": {
        "colab": {
          "base_uri": "https://localhost:8080/"
        },
        "id": "8-JtvIpQ69F8",
        "outputId": "4def0b03-13fc-4ff8-8ede-ccfbc537f63e"
      },
      "execution_count": null,
      "outputs": [
        {
          "output_type": "execute_result",
          "data": {
            "text/plain": [
              "0.4359346190807586"
            ]
          },
          "metadata": {},
          "execution_count": 12
        }
      ]
    },
    {
      "cell_type": "markdown",
      "source": [
        "#Now let's see how we do this with sklearn libraries"
      ],
      "metadata": {
        "id": "CDdLrvlL7wsb"
      }
    },
    {
      "cell_type": "code",
      "source": [
        "from sklearn.linear_model import SGDRegressor"
      ],
      "metadata": {
        "id": "zarOlfwA7wWl"
      },
      "execution_count": null,
      "outputs": []
    },
    {
      "cell_type": "code",
      "source": [
        "sgdr = SGDRegressor()"
      ],
      "metadata": {
        "id": "to65mIcE7CHM"
      },
      "execution_count": null,
      "outputs": []
    },
    {
      "cell_type": "code",
      "source": [
        "sgdr.fit(X_train,y_train)"
      ],
      "metadata": {
        "colab": {
          "base_uri": "https://localhost:8080/"
        },
        "id": "gFgft5pH8NG2",
        "outputId": "32e0516b-88a7-4ab9-c9b5-d253fabde6ce"
      },
      "execution_count": null,
      "outputs": [
        {
          "output_type": "stream",
          "name": "stderr",
          "text": [
            "/usr/local/lib/python3.7/dist-packages/sklearn/linear_model/_stochastic_gradient.py:1507: ConvergenceWarning: Maximum number of iteration reached before convergence. Consider increasing max_iter to improve the fit.\n",
            "  ConvergenceWarning,\n"
          ]
        },
        {
          "output_type": "execute_result",
          "data": {
            "text/plain": [
              "SGDRegressor()"
            ]
          },
          "metadata": {},
          "execution_count": 17
        }
      ]
    },
    {
      "cell_type": "code",
      "source": [
        "sgdr.predict(X_test)"
      ],
      "metadata": {
        "colab": {
          "base_uri": "https://localhost:8080/"
        },
        "id": "SneKzU5-8Zlv",
        "outputId": "b0eff3d6-0bcd-4ed1-ae86-6c95ff641689"
      },
      "execution_count": null,
      "outputs": [
        {
          "output_type": "execute_result",
          "data": {
            "text/plain": [
              "array([154.25709372, 184.02091605, 145.40026465, 116.13052708,\n",
              "       224.41364937, 218.66409008, 110.85654986, 118.95496126,\n",
              "        99.40692486, 179.69093008, 164.8971722 , 169.15757397,\n",
              "       181.33523   , 156.79735999, 226.71712807, 102.92957673,\n",
              "       175.89585266, 136.97379514, 144.06999624, 143.59385856,\n",
              "       128.89553306, 192.54383475, 170.5974316 , 176.11826746,\n",
              "       129.51713615, 209.83715721, 186.37620445, 132.816707  ,\n",
              "        78.68503036, 230.95144804, 223.05137968, 126.10607363,\n",
              "        88.17366018, 121.36989643, 191.44598835, 165.62034216,\n",
              "       166.95144301, 191.83823003, 121.10875295, 219.55103968,\n",
              "       135.51726712, 132.45386744, 180.80467786, 181.42426879,\n",
              "       165.82645022, 148.20729359, 171.52436772, 253.0418005 ,\n",
              "       126.29610662, 191.93971931, 217.53893936, 128.50954761,\n",
              "       141.60671244, 159.60016479, 183.54708979, 125.33777351,\n",
              "       165.0866692 ,  98.5637941 , 157.37366139, 140.38487476,\n",
              "       162.38292562, 172.62318025, 119.77569592, 190.13679024,\n",
              "       159.92017953, 162.24488271, 146.76853271, 181.8592476 ,\n",
              "       124.51814398, 150.56351811, 189.45504262, 177.31214465,\n",
              "       124.22241915, 148.69077082, 140.33290609, 120.7745792 ,\n",
              "        97.16266045, 102.46785139, 168.56174254, 101.45655702,\n",
              "       107.92459834, 118.63300652, 157.87773799, 237.95737686,\n",
              "       190.35960619, 139.23136562, 225.38067738, 173.94734279,\n",
              "       125.26211152])"
            ]
          },
          "metadata": {},
          "execution_count": 18
        }
      ]
    },
    {
      "cell_type": "code",
      "source": [
        "r2_score(y_test,y_pred)"
      ],
      "metadata": {
        "colab": {
          "base_uri": "https://localhost:8080/"
        },
        "id": "7y_d7Fgq8dUR",
        "outputId": "20d8200b-a1f7-4400-f1aa-a95e434be5de"
      },
      "execution_count": null,
      "outputs": [
        {
          "output_type": "execute_result",
          "data": {
            "text/plain": [
              "0.4359346190807586"
            ]
          },
          "metadata": {},
          "execution_count": 19
        }
      ]
    },
    {
      "cell_type": "code",
      "source": [
        ""
      ],
      "metadata": {
        "id": "2xnYz0wm82lR"
      },
      "execution_count": null,
      "outputs": []
    }
  ]
}